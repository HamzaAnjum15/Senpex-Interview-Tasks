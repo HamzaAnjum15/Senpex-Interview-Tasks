{
 "cells": [
  {
   "cell_type": "code",
   "execution_count": 83,
   "id": "2c69d8bd",
   "metadata": {},
   "outputs": [
    {
     "name": "stderr",
     "output_type": "stream",
     "text": [
      "D:\\Users\\dell\\anaconda3\\lib\\site-packages\\openpyxl\\worksheet\\_reader.py:312: UserWarning: Unknown extension is not supported and will be removed\n",
      "  warn(msg)\n"
     ]
    },
    {
     "data": {
      "text/html": [
       "<div>\n",
       "<style scoped>\n",
       "    .dataframe tbody tr th:only-of-type {\n",
       "        vertical-align: middle;\n",
       "    }\n",
       "\n",
       "    .dataframe tbody tr th {\n",
       "        vertical-align: top;\n",
       "    }\n",
       "\n",
       "    .dataframe thead th {\n",
       "        text-align: right;\n",
       "    }\n",
       "</style>\n",
       "<table border=\"1\" class=\"dataframe\">\n",
       "  <thead>\n",
       "    <tr style=\"text-align: right;\">\n",
       "      <th></th>\n",
       "      <th>3 PM  Mon 24th-Mar-2014___0.384 kwh</th>\n",
       "    </tr>\n",
       "  </thead>\n",
       "  <tbody>\n",
       "    <tr>\n",
       "      <th>0</th>\n",
       "      <td>5AM  15-Aug-2014___1.201  kwh</td>\n",
       "    </tr>\n",
       "    <tr>\n",
       "      <th>1</th>\n",
       "      <td>__8PM Thu 20-Mar-2014____1.523 kwh</td>\n",
       "    </tr>\n",
       "    <tr>\n",
       "      <th>2</th>\n",
       "      <td>6PM  23rd-Apr-2014___0.424  kwh</td>\n",
       "    </tr>\n",
       "    <tr>\n",
       "      <th>3</th>\n",
       "      <td>_1AM  Friday 19th-Dec-2014___0.209  kwh</td>\n",
       "    </tr>\n",
       "    <tr>\n",
       "      <th>4</th>\n",
       "      <td>_5AM  Tue 19th-Aug-2014___1.228  kwh</td>\n",
       "    </tr>\n",
       "  </tbody>\n",
       "</table>\n",
       "</div>"
      ],
      "text/plain": [
       "       3 PM  Mon 24th-Mar-2014___0.384 kwh  \n",
       "0             5AM  15-Aug-2014___1.201  kwh \n",
       "1       __8PM Thu 20-Mar-2014____1.523 kwh  \n",
       "2            6PM  23rd-Apr-2014___0.424  kwh\n",
       "3  _1AM  Friday 19th-Dec-2014___0.209  kwh  \n",
       "4      _5AM  Tue 19th-Aug-2014___1.228  kwh "
      ]
     },
     "execution_count": 83,
     "metadata": {},
     "output_type": "execute_result"
    }
   ],
   "source": [
    "import pandas as pd\n",
    "# Load data from the \"Usage\" sheet\n",
    "file_path = 'MO14-Round-1-Dealing-With-Data-Workbook.xlsx'\n",
    "\n",
    "usage_data = pd.read_excel(file_path, sheet_name='Usage')\n",
    "contracts_df = pd.read_excel(file_path, sheet_name='Contracts')\n",
    "\n",
    "# Display the first few rows of the usage data\n",
    "usage_data.head()"
   ]
  },
  {
   "cell_type": "code",
   "execution_count": 92,
   "id": "6b7b4bc3",
   "metadata": {},
   "outputs": [
    {
     "data": {
      "text/html": [
       "<div>\n",
       "<style scoped>\n",
       "    .dataframe tbody tr th:only-of-type {\n",
       "        vertical-align: middle;\n",
       "    }\n",
       "\n",
       "    .dataframe tbody tr th {\n",
       "        vertical-align: top;\n",
       "    }\n",
       "\n",
       "    .dataframe thead th {\n",
       "        text-align: right;\n",
       "    }\n",
       "</style>\n",
       "<table border=\"1\" class=\"dataframe\">\n",
       "  <thead>\n",
       "    <tr style=\"text-align: right;\">\n",
       "      <th></th>\n",
       "      <th>Unnamed: 0</th>\n",
       "      <th>Unnamed: 1</th>\n",
       "      <th>Unnamed: 2</th>\n",
       "      <th>Unnamed: 3</th>\n",
       "      <th>Unnamed: 4</th>\n",
       "      <th>Unnamed: 5</th>\n",
       "      <th>Unnamed: 6</th>\n",
       "      <th>Unnamed: 7</th>\n",
       "      <th>Unnamed: 8</th>\n",
       "      <th>Unnamed: 9</th>\n",
       "      <th>Unnamed: 10</th>\n",
       "    </tr>\n",
       "  </thead>\n",
       "  <tbody>\n",
       "    <tr>\n",
       "      <th>0</th>\n",
       "      <td>NaN</td>\n",
       "      <td>NaN</td>\n",
       "      <td>NaN</td>\n",
       "      <td>NaN</td>\n",
       "      <td>NaN</td>\n",
       "      <td>NaN</td>\n",
       "      <td>NaN</td>\n",
       "      <td>NaN</td>\n",
       "      <td>NaN</td>\n",
       "      <td>NaN</td>\n",
       "      <td>NaN</td>\n",
       "    </tr>\n",
       "    <tr>\n",
       "      <th>1</th>\n",
       "      <td>NaN</td>\n",
       "      <td>NaN</td>\n",
       "      <td>NaN</td>\n",
       "      <td>NaN</td>\n",
       "      <td>NaN</td>\n",
       "      <td>NaN</td>\n",
       "      <td>NaN</td>\n",
       "      <td>NaN</td>\n",
       "      <td>NaN</td>\n",
       "      <td>NaN</td>\n",
       "      <td>NaN</td>\n",
       "    </tr>\n",
       "    <tr>\n",
       "      <th>2</th>\n",
       "      <td>NaN</td>\n",
       "      <td>NaN</td>\n",
       "      <td>NaN</td>\n",
       "      <td>NaN</td>\n",
       "      <td>NaN</td>\n",
       "      <td>NaN</td>\n",
       "      <td>NaN</td>\n",
       "      <td>NaN</td>\n",
       "      <td>NaN</td>\n",
       "      <td>NaN</td>\n",
       "      <td>NaN</td>\n",
       "    </tr>\n",
       "    <tr>\n",
       "      <th>3</th>\n",
       "      <td>NaN</td>\n",
       "      <td>NaN</td>\n",
       "      <td>NaN</td>\n",
       "      <td>NaN</td>\n",
       "      <td>NaN</td>\n",
       "      <td>NaN</td>\n",
       "      <td>NaN</td>\n",
       "      <td>NaN</td>\n",
       "      <td>NaN</td>\n",
       "      <td>NaN</td>\n",
       "      <td>NaN</td>\n",
       "    </tr>\n",
       "    <tr>\n",
       "      <th>4</th>\n",
       "      <td>NaN</td>\n",
       "      <td>NaN</td>\n",
       "      <td>NaN</td>\n",
       "      <td>NaN</td>\n",
       "      <td>NaN</td>\n",
       "      <td>NaN</td>\n",
       "      <td>NaN</td>\n",
       "      <td>NaN</td>\n",
       "      <td>NaN</td>\n",
       "      <td>NaN</td>\n",
       "      <td>NaN</td>\n",
       "    </tr>\n",
       "  </tbody>\n",
       "</table>\n",
       "</div>"
      ],
      "text/plain": [
       "  Unnamed: 0  Unnamed: 1 Unnamed: 2  Unnamed: 3 Unnamed: 4  Unnamed: 5  \\\n",
       "0        NaN         NaN        NaN         NaN        NaN         NaN   \n",
       "1        NaN         NaN        NaN         NaN        NaN         NaN   \n",
       "2        NaN         NaN        NaN         NaN        NaN         NaN   \n",
       "3        NaN         NaN        NaN         NaN        NaN         NaN   \n",
       "4        NaN         NaN        NaN         NaN        NaN         NaN   \n",
       "\n",
       "  Unnamed: 6  Unnamed: 7 Unnamed: 8  Unnamed: 9 Unnamed: 10  \n",
       "0        NaN         NaN        NaN         NaN         NaN  \n",
       "1        NaN         NaN        NaN         NaN         NaN  \n",
       "2        NaN         NaN        NaN         NaN         NaN  \n",
       "3        NaN         NaN        NaN         NaN         NaN  \n",
       "4        NaN         NaN        NaN         NaN         NaN  "
      ]
     },
     "execution_count": 92,
     "metadata": {},
     "output_type": "execute_result"
    }
   ],
   "source": [
    "contracts_df.head()"
   ]
  },
  {
   "cell_type": "code",
   "execution_count": 95,
   "id": "9a50c430",
   "metadata": {},
   "outputs": [
    {
     "name": "stdout",
     "output_type": "stream",
     "text": [
      "Inspecting sheet: Contracts\n",
      "  Unnamed: 0  Unnamed: 1 Unnamed: 2  Unnamed: 3    Unnamed: 4  Unnamed: 5  \\\n",
      "0        NaN         NaN        NaN         NaN           NaN         NaN   \n",
      "1        NaN         NaN        NaN         NaN           NaN         NaN   \n",
      "2        NaN         NaN        NaN         NaN           NaN         NaN   \n",
      "3        NaN         NaN        NaN         NaN           NaN         NaN   \n",
      "4        NaN         NaN        NaN         NaN           NaN         NaN   \n",
      "5        NaN         NaN        NaN         NaN           NaN         NaN   \n",
      "6        NaN         NaN        NaN         NaN           NaN         NaN   \n",
      "7        NaN         NaN        NaN         NaN           NaN         NaN   \n",
      "8                    NaN        NaN         NaN           NaN         NaN   \n",
      "9    No Flex         NaN        NaN         NaN  Monthly Flex         NaN   \n",
      "\n",
      "  Unnamed: 6  Unnamed: 7   Unnamed: 8  Unnamed: 9 Unnamed: 10  \n",
      "0        NaN         NaN          NaN         NaN         NaN  \n",
      "1        NaN         NaN          NaN         NaN         NaN  \n",
      "2        NaN         NaN          NaN         NaN         NaN  \n",
      "3        NaN         NaN          NaN         NaN         NaN  \n",
      "4        NaN         NaN          NaN         NaN         NaN  \n",
      "5        NaN         NaN          NaN         NaN         NaN  \n",
      "6        NaN         NaN          NaN         NaN         NaN  \n",
      "7        NaN         NaN          NaN         NaN         NaN  \n",
      "8        NaN         NaN          NaN         NaN         NaN  \n",
      "9        NaN         NaN  Hourly Flex         NaN         NaN  \n",
      "\n",
      "\n",
      "Inspecting sheet: Usage\n"
     ]
    },
    {
     "name": "stderr",
     "output_type": "stream",
     "text": [
      "D:\\Users\\dell\\anaconda3\\lib\\site-packages\\openpyxl\\worksheet\\_reader.py:312: UserWarning: Unknown extension is not supported and will be removed\n",
      "  warn(msg)\n"
     ]
    },
    {
     "name": "stdout",
     "output_type": "stream",
     "text": [
      "       3 PM  Mon 24th-Mar-2014___0.384 kwh  \n",
      "0             5AM  15-Aug-2014___1.201  kwh \n",
      "1       __8PM Thu 20-Mar-2014____1.523 kwh  \n",
      "2            6PM  23rd-Apr-2014___0.424  kwh\n",
      "3  _1AM  Friday 19th-Dec-2014___0.209  kwh  \n",
      "4      _5AM  Tue 19th-Aug-2014___1.228  kwh \n",
      "5        12PM  Mon 7th-Jul-2014___1.296 kwh \n",
      "6           7 AM  Tue 25-Nov-2014__0.437 kwh\n",
      "7              _8AM  14-Aug-2014__0.523 kwh \n",
      "8           __4PM  25th-Jan-2014__2.052kwh  \n",
      "9             4PM   11th-Feb-2014_0.509 kwh \n",
      "\n",
      "\n"
     ]
    },
    {
     "name": "stderr",
     "output_type": "stream",
     "text": [
      "D:\\Users\\dell\\anaconda3\\lib\\site-packages\\openpyxl\\worksheet\\_reader.py:312: UserWarning: Unknown extension is not supported and will be removed\n",
      "  warn(msg)\n"
     ]
    }
   ],
   "source": [
    "# Iterate through all sheets and print the first few rows to find the contract details\n",
    "for sheet_name in sheet_names:\n",
    "    print(f\"Inspecting sheet: {sheet_name}\")\n",
    "    df = pd.read_excel(file_path, sheet_name=sheet_name)\n",
    "    print(df.head(10))\n",
    "    print(\"\\n\")\n"
   ]
  },
  {
   "cell_type": "code",
   "execution_count": 110,
   "id": "2bee2da2",
   "metadata": {},
   "outputs": [
    {
     "data": {
      "text/html": [
       "<div>\n",
       "<style scoped>\n",
       "    .dataframe tbody tr th:only-of-type {\n",
       "        vertical-align: middle;\n",
       "    }\n",
       "\n",
       "    .dataframe tbody tr th {\n",
       "        vertical-align: top;\n",
       "    }\n",
       "\n",
       "    .dataframe thead th {\n",
       "        text-align: right;\n",
       "    }\n",
       "</style>\n",
       "<table border=\"1\" class=\"dataframe\">\n",
       "  <thead>\n",
       "    <tr style=\"text-align: right;\">\n",
       "      <th></th>\n",
       "      <th>Hour</th>\n",
       "      <th>Date</th>\n",
       "      <th>Usage</th>\n",
       "      <th>Day</th>\n",
       "    </tr>\n",
       "  </thead>\n",
       "  <tbody>\n",
       "    <tr>\n",
       "      <th>0</th>\n",
       "      <td>5AM</td>\n",
       "      <td>15-Aug-2014</td>\n",
       "      <td>1.201</td>\n",
       "      <td>None</td>\n",
       "    </tr>\n",
       "    <tr>\n",
       "      <th>1</th>\n",
       "      <td>__8PM</td>\n",
       "      <td>20-Mar-2014</td>\n",
       "      <td>1.523</td>\n",
       "      <td>Thu</td>\n",
       "    </tr>\n",
       "    <tr>\n",
       "      <th>2</th>\n",
       "      <td>6PM</td>\n",
       "      <td>23rd-Apr-2014</td>\n",
       "      <td>0.424</td>\n",
       "      <td>None</td>\n",
       "    </tr>\n",
       "    <tr>\n",
       "      <th>3</th>\n",
       "      <td>_1AM</td>\n",
       "      <td>19th-Dec-2014</td>\n",
       "      <td>0.209</td>\n",
       "      <td>Friday</td>\n",
       "    </tr>\n",
       "    <tr>\n",
       "      <th>4</th>\n",
       "      <td>_5AM</td>\n",
       "      <td>19th-Aug-2014</td>\n",
       "      <td>1.228</td>\n",
       "      <td>Tue</td>\n",
       "    </tr>\n",
       "    <tr>\n",
       "      <th>5</th>\n",
       "      <td>12PM</td>\n",
       "      <td>7th-Jul-2014</td>\n",
       "      <td>1.296</td>\n",
       "      <td>Mon</td>\n",
       "    </tr>\n",
       "    <tr>\n",
       "      <th>6</th>\n",
       "      <td>7 AM</td>\n",
       "      <td>25-Nov-2014</td>\n",
       "      <td>0.437</td>\n",
       "      <td>Tue</td>\n",
       "    </tr>\n",
       "    <tr>\n",
       "      <th>7</th>\n",
       "      <td>_8AM</td>\n",
       "      <td>14-Aug-2014</td>\n",
       "      <td>0.523</td>\n",
       "      <td>None</td>\n",
       "    </tr>\n",
       "    <tr>\n",
       "      <th>8</th>\n",
       "      <td>__4PM</td>\n",
       "      <td>25th-Jan-2014</td>\n",
       "      <td>2.052</td>\n",
       "      <td>None</td>\n",
       "    </tr>\n",
       "    <tr>\n",
       "      <th>9</th>\n",
       "      <td>4PM</td>\n",
       "      <td>11th-Feb-2014</td>\n",
       "      <td>0.509</td>\n",
       "      <td>None</td>\n",
       "    </tr>\n",
       "  </tbody>\n",
       "</table>\n",
       "</div>"
      ],
      "text/plain": [
       "    Hour           Date  Usage     Day\n",
       "0    5AM    15-Aug-2014  1.201    None\n",
       "1  __8PM    20-Mar-2014  1.523     Thu\n",
       "2    6PM  23rd-Apr-2014  0.424    None\n",
       "3   _1AM  19th-Dec-2014  0.209  Friday\n",
       "4   _5AM  19th-Aug-2014  1.228     Tue\n",
       "5   12PM   7th-Jul-2014  1.296     Mon\n",
       "6   7 AM    25-Nov-2014  0.437     Tue\n",
       "7   _8AM    14-Aug-2014  0.523    None\n",
       "8  __4PM  25th-Jan-2014  2.052    None\n",
       "9    4PM  11th-Feb-2014  0.509    None"
      ]
     },
     "execution_count": 110,
     "metadata": {},
     "output_type": "execute_result"
    }
   ],
   "source": [
    "import re\n",
    "\n",
    "# Function to clean and extract data from each row with better handling for shifted values and preserving day of the week\n",
    "def final_clean_usage_data(row):\n",
    "    row = row.strip()  # Remove leading and trailing whitespaces\n",
    "    \n",
    "    # Extract usage (last number in the row)\n",
    "    usage_match = re.search(r'(\\d+\\.\\d+)\\s*kwh', row, re.IGNORECASE)\n",
    "    if usage_match:\n",
    "        usage = float(usage_match.group(1))\n",
    "    else:\n",
    "        usage = None\n",
    "    \n",
    "    # Remove the usage part to focus on hour, date, and day\n",
    "    row = row.replace(usage_match.group(), '').strip() if usage_match else row\n",
    "    \n",
    "    # Extract hour (if it appears at the start or within the string)\n",
    "    hour_match = re.search(r'(_* *\\d{1,2}\\s*[APM]{2})', row, re.IGNORECASE)\n",
    "    if hour_match:\n",
    "        hour = hour_match.group(1).strip()\n",
    "        date_str = row.replace(hour, '').strip()\n",
    "    else:\n",
    "        hour = None\n",
    "        date_str = row.strip()\n",
    "    \n",
    "    # Extract date (matches common date formats) and day\n",
    "    date_match = re.search(r'([A-Za-z]{3,9}\\s)?(\\d{1,2}[a-z]{2}-[A-Za-z]{3}-\\d{4}|\\d{1,2}-[A-Za-z]{3}-\\d{4}|\\d{1,2}\\s[A-Za-z]{3}\\s\\d{4})', date_str)\n",
    "    if date_match:\n",
    "        date = date_match.group(2)\n",
    "        # Extract day of the week if available\n",
    "        day_match = re.search(r'([A-Za-z]{3,9})', date_match.group(1)) if date_match.group(1) else None\n",
    "        day = day_match.group(1) if day_match else None\n",
    "    else:\n",
    "        date = None\n",
    "        day = None\n",
    "    \n",
    "    return hour, date, usage, day\n",
    "\n",
    "# Apply the final cleaning function to each row\n",
    "final_cleaned_data = usage_data.iloc[:, 0].apply(final_clean_usage_data)\n",
    "\n",
    "# Convert cleaned data to a DataFrame\n",
    "final_cleaned_usage_df = pd.DataFrame(final_cleaned_data.tolist(), columns=['Hour', 'Date', 'Usage', 'Day'])\n",
    "\n",
    "# Display the first few rows of the cleaned data\n",
    "final_cleaned_usage_df.head(10)\n"
   ]
  },
  {
   "cell_type": "code",
   "execution_count": 56,
   "id": "50b3f4b3",
   "metadata": {},
   "outputs": [
    {
     "data": {
      "text/plain": [
       "Hour        0\n",
       "Date        0\n",
       "Usage       0\n",
       "Day      4301\n",
       "dtype: int64"
      ]
     },
     "execution_count": 56,
     "metadata": {},
     "output_type": "execute_result"
    }
   ],
   "source": [
    "final_cleaned_usage_df.isna().sum()"
   ]
  },
  {
   "cell_type": "code",
   "execution_count": 85,
   "id": "3fff18bc",
   "metadata": {},
   "outputs": [
    {
     "name": "stderr",
     "output_type": "stream",
     "text": [
      "C:\\Users\\dell\\AppData\\Local\\Temp/ipykernel_13268/66946956.py:1: SettingWithCopyWarning: \n",
      "A value is trying to be set on a copy of a slice from a DataFrame\n",
      "\n",
      "See the caveats in the documentation: https://pandas.pydata.org/pandas-docs/stable/user_guide/indexing.html#returning-a-view-versus-a-copy\n",
      "  final_cleaned_usage_df['Day'][8758] = 'Thursday'\n"
     ]
    },
    {
     "data": {
      "text/html": [
       "<div>\n",
       "<style scoped>\n",
       "    .dataframe tbody tr th:only-of-type {\n",
       "        vertical-align: middle;\n",
       "    }\n",
       "\n",
       "    .dataframe tbody tr th {\n",
       "        vertical-align: top;\n",
       "    }\n",
       "\n",
       "    .dataframe thead th {\n",
       "        text-align: right;\n",
       "    }\n",
       "</style>\n",
       "<table border=\"1\" class=\"dataframe\">\n",
       "  <thead>\n",
       "    <tr style=\"text-align: right;\">\n",
       "      <th></th>\n",
       "      <th>Hour</th>\n",
       "      <th>Date</th>\n",
       "      <th>Usage</th>\n",
       "      <th>Day</th>\n",
       "    </tr>\n",
       "  </thead>\n",
       "  <tbody>\n",
       "    <tr>\n",
       "      <th>0</th>\n",
       "      <td>5AM</td>\n",
       "      <td>15-Aug-2014</td>\n",
       "      <td>1.201</td>\n",
       "      <td>Thu</td>\n",
       "    </tr>\n",
       "    <tr>\n",
       "      <th>1</th>\n",
       "      <td>__8PM</td>\n",
       "      <td>20-Mar-2014</td>\n",
       "      <td>1.523</td>\n",
       "      <td>Thu</td>\n",
       "    </tr>\n",
       "    <tr>\n",
       "      <th>2</th>\n",
       "      <td>6PM</td>\n",
       "      <td>23rd-Apr-2014</td>\n",
       "      <td>0.424</td>\n",
       "      <td>Friday</td>\n",
       "    </tr>\n",
       "    <tr>\n",
       "      <th>3</th>\n",
       "      <td>_1AM</td>\n",
       "      <td>19th-Dec-2014</td>\n",
       "      <td>0.209</td>\n",
       "      <td>Friday</td>\n",
       "    </tr>\n",
       "    <tr>\n",
       "      <th>4</th>\n",
       "      <td>_5AM</td>\n",
       "      <td>19th-Aug-2014</td>\n",
       "      <td>1.228</td>\n",
       "      <td>Tue</td>\n",
       "    </tr>\n",
       "  </tbody>\n",
       "</table>\n",
       "</div>"
      ],
      "text/plain": [
       "    Hour           Date  Usage     Day\n",
       "0    5AM    15-Aug-2014  1.201     Thu\n",
       "1  __8PM    20-Mar-2014  1.523     Thu\n",
       "2    6PM  23rd-Apr-2014  0.424  Friday\n",
       "3   _1AM  19th-Dec-2014  0.209  Friday\n",
       "4   _5AM  19th-Aug-2014  1.228     Tue"
      ]
     },
     "execution_count": 85,
     "metadata": {},
     "output_type": "execute_result"
    }
   ],
   "source": [
    "final_cleaned_usage_df['Day'][8758] = 'Thursday'\n",
    "final_cleaned_usage_df['Day'].fillna(method='bfill', inplace=True)\n",
    "\n",
    "final_cleaned_usage_df.head()"
   ]
  },
  {
   "cell_type": "code",
   "execution_count": 58,
   "id": "55684c21",
   "metadata": {
    "scrolled": true
   },
   "outputs": [
    {
     "data": {
      "text/plain": [
       "Hour     0\n",
       "Date     0\n",
       "Usage    0\n",
       "Day      0\n",
       "dtype: int64"
      ]
     },
     "execution_count": 58,
     "metadata": {},
     "output_type": "execute_result"
    }
   ],
   "source": [
    "final_cleaned_usage_df.isna().sum()"
   ]
  },
  {
   "cell_type": "markdown",
   "id": "acacd72b",
   "metadata": {},
   "source": [
    "#### Question 1: What is your average hourly electricity usage?"
   ]
  },
  {
   "cell_type": "code",
   "execution_count": 100,
   "id": "e93ca8f1",
   "metadata": {},
   "outputs": [
    {
     "name": "stdout",
     "output_type": "stream",
     "text": [
      "Average hourly electricity usage: 0.781923393081394 kWh\n"
     ]
    }
   ],
   "source": [
    "# Calculate average hourly usage\n",
    "average_hourly_usage = final_cleaned_usage_df['Usage'].mean()\n",
    "\n",
    "# Print the result with appropriate formatting\n",
    "print(\"Average hourly electricity usage:\", average_hourly_usage, \"kWh\")\n"
   ]
  },
  {
   "cell_type": "markdown",
   "id": "a151cfff",
   "metadata": {},
   "source": [
    "#### Question 2: What is your average electricity usage per hour in February?"
   ]
  },
  {
   "cell_type": "code",
   "execution_count": 88,
   "id": "74730712",
   "metadata": {},
   "outputs": [
    {
     "name": "stdout",
     "output_type": "stream",
     "text": [
      "The average electricity usage per hour in February is: 0.8329151785714305 kWh\n"
     ]
    }
   ],
   "source": [
    "february_data = final_cleaned_usage_df[final_cleaned_usage_df['Date'].dt.month == 2]\n",
    "\n",
    "# Calculate the average usage per hour in February\n",
    "average_february_usage = february_data['Usage'].mean()\n",
    "\n",
    "print(\"The average electricity usage per hour in February is:\", average_february_usage, \"kWh\")"
   ]
  },
  {
   "cell_type": "markdown",
   "id": "6394a0dd",
   "metadata": {},
   "source": [
    "#### Question 3: Which day of the week has the highest average usage? "
   ]
  },
  {
   "cell_type": "code",
   "execution_count": 86,
   "id": "5b807c68",
   "metadata": {},
   "outputs": [
    {
     "data": {
      "text/plain": [
       "'Saturday'"
      ]
     },
     "execution_count": 86,
     "metadata": {},
     "output_type": "execute_result"
    }
   ],
   "source": [
    "average_usage_per_day = final_cleaned_usage_df.groupby('Day')['Usage'].mean()\n",
    "average_usage_per_day.idxmax()"
   ]
  },
  {
   "cell_type": "markdown",
   "id": "ea967f99",
   "metadata": {},
   "source": [
    "#### Question 4: What is the highest amount of electricity used in a continuous 4 hour period? "
   ]
  },
  {
   "cell_type": "code",
   "execution_count": 111,
   "id": "ce5843a5",
   "metadata": {
    "scrolled": true
   },
   "outputs": [
    {
     "name": "stdout",
     "output_type": "stream",
     "text": [
      "The highest amount of electricity used in a continuous 4-hour period is: 15.782000000000004 kWh\n"
     ]
    }
   ],
   "source": [
    "def remove_ordinal_suffix(date_str):\n",
    "    return date_str.replace('st', '').replace('nd', '').replace('rd', '').replace('th', '')\n",
    "\n",
    "# Apply the function to the Date column\n",
    "final_cleaned_usage_df['Date'] = final_cleaned_usage_df['Date'].apply(remove_ordinal_suffix)\n",
    "\n",
    "# Parse the dates\n",
    "final_cleaned_usage_df['Date'] = pd.to_datetime(final_cleaned_usage_df['Date'], format='%d-%b-%Y')\n",
    "\n",
    "# Drop rows with invalid dates\n",
    "final_cleaned_usage_df.dropna(subset=['Date'], inplace=True)\n",
    "\n",
    "# Sort the data by Date and Hour to ensure the time sequence is correct\n",
    "final_cleaned_usage_df = final_cleaned_usage_df.sort_values(by=['Date', 'Hour'])\n",
    "\n",
    "# Reset the index after sorting\n",
    "final_cleaned_usage_df.reset_index(drop=True, inplace=True)\n",
    "\n",
    "# Calculate the sum of usage for every continuous 4-hour period\n",
    "highest_4_hour_usage = final_cleaned_usage_df['Usage'].rolling(window=4).sum().max()\n",
    "\n",
    "print(\"The highest amount of electricity used in a continuous 4-hour period is:\", highest_4_hour_usage, \"kWh\")\n"
   ]
  },
  {
   "cell_type": "markdown",
   "id": "e90d0057",
   "metadata": {},
   "source": [
    "#### Question 6: Based on your historic electricity usage, which of the three contracts would produce the lowest annual cost?"
   ]
  },
  {
   "cell_type": "markdown",
   "id": "878f3d0e",
   "metadata": {},
   "source": [
    " By Looking at the sheet and analyzing their average The Hourly Flex plan could produce the lowest annual cost"
   ]
  }
 ],
 "metadata": {
  "kernelspec": {
   "display_name": "Python 3 (ipykernel)",
   "language": "python",
   "name": "python3"
  },
  "language_info": {
   "codemirror_mode": {
    "name": "ipython",
    "version": 3
   },
   "file_extension": ".py",
   "mimetype": "text/x-python",
   "name": "python",
   "nbconvert_exporter": "python",
   "pygments_lexer": "ipython3",
   "version": "3.9.7"
  }
 },
 "nbformat": 4,
 "nbformat_minor": 5
}
