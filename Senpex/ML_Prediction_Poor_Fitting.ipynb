{
 "cells": [
  {
   "cell_type": "code",
   "execution_count": 277,
   "id": "ece41090",
   "metadata": {},
   "outputs": [
    {
     "data": {
      "text/html": [
       "<div>\n",
       "<style scoped>\n",
       "    .dataframe tbody tr th:only-of-type {\n",
       "        vertical-align: middle;\n",
       "    }\n",
       "\n",
       "    .dataframe tbody tr th {\n",
       "        vertical-align: top;\n",
       "    }\n",
       "\n",
       "    .dataframe thead th {\n",
       "        text-align: right;\n",
       "    }\n",
       "</style>\n",
       "<table border=\"1\" class=\"dataframe\">\n",
       "  <thead>\n",
       "    <tr style=\"text-align: right;\">\n",
       "      <th></th>\n",
       "      <th>Client Code</th>\n",
       "      <th>Loan amount (issued in AZN)</th>\n",
       "      <th>Monthly payment (AZN)</th>\n",
       "      <th>Age</th>\n",
       "      <th>Salary (AZN)</th>\n",
       "      <th>Bank history (years)</th>\n",
       "      <th>Monthly Amazon purchases from card (USD)</th>\n",
       "      <th>Monthly Google Play purchases from card (USD)</th>\n",
       "      <th>Grocery purchases from card (AZN)</th>\n",
       "      <th>Maximum default days within a year (FACTUAL)</th>\n",
       "      <th>Predicted maximum default days within a year according to the model</th>\n",
       "      <th>Predicted default days within a year in CRISIS*\\nscenario</th>\n",
       "    </tr>\n",
       "  </thead>\n",
       "  <tbody>\n",
       "    <tr>\n",
       "      <th>0</th>\n",
       "      <td>150015</td>\n",
       "      <td>5688</td>\n",
       "      <td>474.000000</td>\n",
       "      <td>50</td>\n",
       "      <td>500.0</td>\n",
       "      <td>2</td>\n",
       "      <td>0</td>\n",
       "      <td>0</td>\n",
       "      <td>0</td>\n",
       "      <td>0</td>\n",
       "      <td>NaN</td>\n",
       "      <td>NaN</td>\n",
       "    </tr>\n",
       "    <tr>\n",
       "      <th>1</th>\n",
       "      <td>150016</td>\n",
       "      <td>7699</td>\n",
       "      <td>641.583333</td>\n",
       "      <td>51</td>\n",
       "      <td>233.0</td>\n",
       "      <td>5</td>\n",
       "      <td>0</td>\n",
       "      <td>0</td>\n",
       "      <td>0</td>\n",
       "      <td>0</td>\n",
       "      <td>NaN</td>\n",
       "      <td>NaN</td>\n",
       "    </tr>\n",
       "    <tr>\n",
       "      <th>2</th>\n",
       "      <td>150017</td>\n",
       "      <td>3494</td>\n",
       "      <td>291.166667</td>\n",
       "      <td>19</td>\n",
       "      <td>600.0</td>\n",
       "      <td>5</td>\n",
       "      <td>48</td>\n",
       "      <td>27</td>\n",
       "      <td>169</td>\n",
       "      <td>20</td>\n",
       "      <td>NaN</td>\n",
       "      <td>NaN</td>\n",
       "    </tr>\n",
       "    <tr>\n",
       "      <th>3</th>\n",
       "      <td>150018</td>\n",
       "      <td>3485</td>\n",
       "      <td>290.416667</td>\n",
       "      <td>20</td>\n",
       "      <td>650.0</td>\n",
       "      <td>5</td>\n",
       "      <td>39</td>\n",
       "      <td>26</td>\n",
       "      <td>150</td>\n",
       "      <td>15</td>\n",
       "      <td>NaN</td>\n",
       "      <td>NaN</td>\n",
       "    </tr>\n",
       "    <tr>\n",
       "      <th>4</th>\n",
       "      <td>150019</td>\n",
       "      <td>5416</td>\n",
       "      <td>451.333333</td>\n",
       "      <td>25</td>\n",
       "      <td>700.0</td>\n",
       "      <td>2</td>\n",
       "      <td>41</td>\n",
       "      <td>0</td>\n",
       "      <td>218</td>\n",
       "      <td>0</td>\n",
       "      <td>NaN</td>\n",
       "      <td>NaN</td>\n",
       "    </tr>\n",
       "  </tbody>\n",
       "</table>\n",
       "</div>"
      ],
      "text/plain": [
       "   Client Code  Loan amount (issued in AZN)  Monthly payment (AZN)  Age  \\\n",
       "0       150015                         5688             474.000000   50   \n",
       "1       150016                         7699             641.583333   51   \n",
       "2       150017                         3494             291.166667   19   \n",
       "3       150018                         3485             290.416667   20   \n",
       "4       150019                         5416             451.333333   25   \n",
       "\n",
       "   Salary (AZN)  Bank history (years)  \\\n",
       "0         500.0                     2   \n",
       "1         233.0                     5   \n",
       "2         600.0                     5   \n",
       "3         650.0                     5   \n",
       "4         700.0                     2   \n",
       "\n",
       "   Monthly Amazon purchases from card (USD)  \\\n",
       "0                                         0   \n",
       "1                                         0   \n",
       "2                                        48   \n",
       "3                                        39   \n",
       "4                                        41   \n",
       "\n",
       "   Monthly Google Play purchases from card (USD)  \\\n",
       "0                                              0   \n",
       "1                                              0   \n",
       "2                                             27   \n",
       "3                                             26   \n",
       "4                                              0   \n",
       "\n",
       "   Grocery purchases from card (AZN)  \\\n",
       "0                                  0   \n",
       "1                                  0   \n",
       "2                                169   \n",
       "3                                150   \n",
       "4                                218   \n",
       "\n",
       "   Maximum default days within a year (FACTUAL)  \\\n",
       "0                                             0   \n",
       "1                                             0   \n",
       "2                                            20   \n",
       "3                                            15   \n",
       "4                                             0   \n",
       "\n",
       "   Predicted maximum default days within a year according to the model   \\\n",
       "0                                                NaN                      \n",
       "1                                                NaN                      \n",
       "2                                                NaN                      \n",
       "3                                                NaN                      \n",
       "4                                                NaN                      \n",
       "\n",
       "   Predicted default days within a year in CRISIS*\\nscenario  \n",
       "0                                                NaN          \n",
       "1                                                NaN          \n",
       "2                                                NaN          \n",
       "3                                                NaN          \n",
       "4                                                NaN          "
      ]
     },
     "execution_count": 277,
     "metadata": {},
     "output_type": "execute_result"
    }
   ],
   "source": [
    "import pandas as pd\n",
    "df = pd.read_excel('newML.xlsx')\n",
    "df.head()"
   ]
  },
  {
   "cell_type": "code",
   "execution_count": 99,
   "id": "a486c832",
   "metadata": {},
   "outputs": [
    {
     "name": "stdout",
     "output_type": "stream",
     "text": [
      "Index(['Client Code', 'Loan amount (issued in AZN)', 'Monthly payment (AZN)',\n",
      "       'Age', 'Salary (AZN)', 'Bank history (years)',\n",
      "       'Monthly Amazon purchases from card (USD)',\n",
      "       'Monthly Google Play purchases from card (USD)',\n",
      "       'Grocery purchases from card (AZN)',\n",
      "       'Maximum default days within a year (FACTUAL)',\n",
      "       'Predicted maximum default days within a year according to the model ',\n",
      "       'Predicted default days within a year in CRISIS*\\nscenario'],\n",
      "      dtype='object')\n"
     ]
    }
   ],
   "source": [
    "print(df.columns)"
   ]
  },
  {
   "cell_type": "code",
   "execution_count": 278,
   "id": "db69a8a4",
   "metadata": {},
   "outputs": [
    {
     "data": {
      "text/html": [
       "<div>\n",
       "<style scoped>\n",
       "    .dataframe tbody tr th:only-of-type {\n",
       "        vertical-align: middle;\n",
       "    }\n",
       "\n",
       "    .dataframe tbody tr th {\n",
       "        vertical-align: top;\n",
       "    }\n",
       "\n",
       "    .dataframe thead th {\n",
       "        text-align: right;\n",
       "    }\n",
       "</style>\n",
       "<table border=\"1\" class=\"dataframe\">\n",
       "  <thead>\n",
       "    <tr style=\"text-align: right;\">\n",
       "      <th></th>\n",
       "      <th>Client Code</th>\n",
       "      <th>Loan amount (issued in AZN)</th>\n",
       "      <th>Monthly payment (AZN)</th>\n",
       "      <th>Age</th>\n",
       "      <th>Salary (AZN)</th>\n",
       "      <th>Bank history (years)</th>\n",
       "      <th>Monthly Amazon purchases from card (USD)</th>\n",
       "      <th>Monthly Google Play purchases from card (USD)</th>\n",
       "      <th>Grocery purchases from card (AZN)</th>\n",
       "      <th>Maximum default days within a year (FACTUAL)</th>\n",
       "    </tr>\n",
       "  </thead>\n",
       "  <tbody>\n",
       "    <tr>\n",
       "      <th>0</th>\n",
       "      <td>150015</td>\n",
       "      <td>5688</td>\n",
       "      <td>474.000000</td>\n",
       "      <td>50</td>\n",
       "      <td>500.0</td>\n",
       "      <td>2</td>\n",
       "      <td>0</td>\n",
       "      <td>0</td>\n",
       "      <td>0</td>\n",
       "      <td>0</td>\n",
       "    </tr>\n",
       "    <tr>\n",
       "      <th>1</th>\n",
       "      <td>150016</td>\n",
       "      <td>7699</td>\n",
       "      <td>641.583333</td>\n",
       "      <td>51</td>\n",
       "      <td>233.0</td>\n",
       "      <td>5</td>\n",
       "      <td>0</td>\n",
       "      <td>0</td>\n",
       "      <td>0</td>\n",
       "      <td>0</td>\n",
       "    </tr>\n",
       "    <tr>\n",
       "      <th>2</th>\n",
       "      <td>150017</td>\n",
       "      <td>3494</td>\n",
       "      <td>291.166667</td>\n",
       "      <td>19</td>\n",
       "      <td>600.0</td>\n",
       "      <td>5</td>\n",
       "      <td>48</td>\n",
       "      <td>27</td>\n",
       "      <td>169</td>\n",
       "      <td>20</td>\n",
       "    </tr>\n",
       "    <tr>\n",
       "      <th>3</th>\n",
       "      <td>150018</td>\n",
       "      <td>3485</td>\n",
       "      <td>290.416667</td>\n",
       "      <td>20</td>\n",
       "      <td>650.0</td>\n",
       "      <td>5</td>\n",
       "      <td>39</td>\n",
       "      <td>26</td>\n",
       "      <td>150</td>\n",
       "      <td>15</td>\n",
       "    </tr>\n",
       "    <tr>\n",
       "      <th>4</th>\n",
       "      <td>150019</td>\n",
       "      <td>5416</td>\n",
       "      <td>451.333333</td>\n",
       "      <td>25</td>\n",
       "      <td>700.0</td>\n",
       "      <td>2</td>\n",
       "      <td>41</td>\n",
       "      <td>0</td>\n",
       "      <td>218</td>\n",
       "      <td>0</td>\n",
       "    </tr>\n",
       "  </tbody>\n",
       "</table>\n",
       "</div>"
      ],
      "text/plain": [
       "   Client Code  Loan amount (issued in AZN)  Monthly payment (AZN)  Age  \\\n",
       "0       150015                         5688             474.000000   50   \n",
       "1       150016                         7699             641.583333   51   \n",
       "2       150017                         3494             291.166667   19   \n",
       "3       150018                         3485             290.416667   20   \n",
       "4       150019                         5416             451.333333   25   \n",
       "\n",
       "   Salary (AZN)  Bank history (years)  \\\n",
       "0         500.0                     2   \n",
       "1         233.0                     5   \n",
       "2         600.0                     5   \n",
       "3         650.0                     5   \n",
       "4         700.0                     2   \n",
       "\n",
       "   Monthly Amazon purchases from card (USD)  \\\n",
       "0                                         0   \n",
       "1                                         0   \n",
       "2                                        48   \n",
       "3                                        39   \n",
       "4                                        41   \n",
       "\n",
       "   Monthly Google Play purchases from card (USD)  \\\n",
       "0                                              0   \n",
       "1                                              0   \n",
       "2                                             27   \n",
       "3                                             26   \n",
       "4                                              0   \n",
       "\n",
       "   Grocery purchases from card (AZN)  \\\n",
       "0                                  0   \n",
       "1                                  0   \n",
       "2                                169   \n",
       "3                                150   \n",
       "4                                218   \n",
       "\n",
       "   Maximum default days within a year (FACTUAL)  \n",
       "0                                             0  \n",
       "1                                             0  \n",
       "2                                            20  \n",
       "3                                            15  \n",
       "4                                             0  "
      ]
     },
     "execution_count": 278,
     "metadata": {},
     "output_type": "execute_result"
    }
   ],
   "source": [
    "df = df.drop(df.columns[10:12], axis=1)\n",
    "df.head()"
   ]
  },
  {
   "cell_type": "code",
   "execution_count": 344,
   "id": "aee1b8d6",
   "metadata": {},
   "outputs": [],
   "source": [
    "df_new = df[np.isfinite(df).all(1)]"
   ]
  },
  {
   "cell_type": "code",
   "execution_count": 493,
   "id": "b59a97a4",
   "metadata": {},
   "outputs": [
    {
     "data": {
      "text/html": [
       "<div>\n",
       "<style scoped>\n",
       "    .dataframe tbody tr th:only-of-type {\n",
       "        vertical-align: middle;\n",
       "    }\n",
       "\n",
       "    .dataframe tbody tr th {\n",
       "        vertical-align: top;\n",
       "    }\n",
       "\n",
       "    .dataframe thead th {\n",
       "        text-align: right;\n",
       "    }\n",
       "</style>\n",
       "<table border=\"1\" class=\"dataframe\">\n",
       "  <thead>\n",
       "    <tr style=\"text-align: right;\">\n",
       "      <th></th>\n",
       "      <th>Client Code</th>\n",
       "      <th>Loan amount (issued in AZN)</th>\n",
       "      <th>Monthly payment (AZN)</th>\n",
       "      <th>Age</th>\n",
       "      <th>Salary (AZN)</th>\n",
       "      <th>Bank history (years)</th>\n",
       "      <th>Monthly Amazon purchases from card (USD)</th>\n",
       "      <th>Monthly Google Play purchases from card (USD)</th>\n",
       "      <th>Grocery purchases from card (AZN)</th>\n",
       "      <th>Maximum default days within a year (FACTUAL)</th>\n",
       "    </tr>\n",
       "  </thead>\n",
       "  <tbody>\n",
       "    <tr>\n",
       "      <th>0</th>\n",
       "      <td>150015</td>\n",
       "      <td>5688</td>\n",
       "      <td>474.000000</td>\n",
       "      <td>50</td>\n",
       "      <td>500.0</td>\n",
       "      <td>2</td>\n",
       "      <td>14</td>\n",
       "      <td>5.894737</td>\n",
       "      <td>150</td>\n",
       "      <td>10</td>\n",
       "    </tr>\n",
       "    <tr>\n",
       "      <th>1</th>\n",
       "      <td>150016</td>\n",
       "      <td>7699</td>\n",
       "      <td>641.583333</td>\n",
       "      <td>51</td>\n",
       "      <td>233.0</td>\n",
       "      <td>5</td>\n",
       "      <td>14</td>\n",
       "      <td>5.894737</td>\n",
       "      <td>150</td>\n",
       "      <td>10</td>\n",
       "    </tr>\n",
       "    <tr>\n",
       "      <th>2</th>\n",
       "      <td>150017</td>\n",
       "      <td>3494</td>\n",
       "      <td>291.166667</td>\n",
       "      <td>19</td>\n",
       "      <td>600.0</td>\n",
       "      <td>5</td>\n",
       "      <td>48</td>\n",
       "      <td>27.000000</td>\n",
       "      <td>169</td>\n",
       "      <td>20</td>\n",
       "    </tr>\n",
       "    <tr>\n",
       "      <th>3</th>\n",
       "      <td>150018</td>\n",
       "      <td>3485</td>\n",
       "      <td>290.416667</td>\n",
       "      <td>20</td>\n",
       "      <td>650.0</td>\n",
       "      <td>5</td>\n",
       "      <td>39</td>\n",
       "      <td>26.000000</td>\n",
       "      <td>150</td>\n",
       "      <td>15</td>\n",
       "    </tr>\n",
       "    <tr>\n",
       "      <th>4</th>\n",
       "      <td>150019</td>\n",
       "      <td>5416</td>\n",
       "      <td>451.333333</td>\n",
       "      <td>25</td>\n",
       "      <td>700.0</td>\n",
       "      <td>2</td>\n",
       "      <td>41</td>\n",
       "      <td>5.894737</td>\n",
       "      <td>218</td>\n",
       "      <td>10</td>\n",
       "    </tr>\n",
       "  </tbody>\n",
       "</table>\n",
       "</div>"
      ],
      "text/plain": [
       "   Client Code  Loan amount (issued in AZN)  Monthly payment (AZN)  Age  \\\n",
       "0       150015                         5688             474.000000   50   \n",
       "1       150016                         7699             641.583333   51   \n",
       "2       150017                         3494             291.166667   19   \n",
       "3       150018                         3485             290.416667   20   \n",
       "4       150019                         5416             451.333333   25   \n",
       "\n",
       "   Salary (AZN)  Bank history (years)  \\\n",
       "0         500.0                     2   \n",
       "1         233.0                     5   \n",
       "2         600.0                     5   \n",
       "3         650.0                     5   \n",
       "4         700.0                     2   \n",
       "\n",
       "   Monthly Amazon purchases from card (USD)  \\\n",
       "0                                        14   \n",
       "1                                        14   \n",
       "2                                        48   \n",
       "3                                        39   \n",
       "4                                        41   \n",
       "\n",
       "   Monthly Google Play purchases from card (USD)  \\\n",
       "0                                       5.894737   \n",
       "1                                       5.894737   \n",
       "2                                      27.000000   \n",
       "3                                      26.000000   \n",
       "4                                       5.894737   \n",
       "\n",
       "   Grocery purchases from card (AZN)  \\\n",
       "0                                150   \n",
       "1                                150   \n",
       "2                                169   \n",
       "3                                150   \n",
       "4                                218   \n",
       "\n",
       "   Maximum default days within a year (FACTUAL)  \n",
       "0                                            10  \n",
       "1                                            10  \n",
       "2                                            20  \n",
       "3                                            15  \n",
       "4                                            10  "
      ]
     },
     "execution_count": 493,
     "metadata": {},
     "output_type": "execute_result"
    }
   ],
   "source": [
    "df_new = df_new.replace(0,df_new.mean())\n",
    "# df_new = df_new.fillna(df.median())\n",
    "df_new.head()"
   ]
  },
  {
   "cell_type": "code",
   "execution_count": 494,
   "id": "18627c30",
   "metadata": {},
   "outputs": [],
   "source": [
    "x = df_new.drop(columns=['Client Code', 'Maximum default days within a year (FACTUAL)'])\n",
    "y = df_new['Maximum default days within a year (FACTUAL)']\n"
   ]
  },
  {
   "cell_type": "code",
   "execution_count": 495,
   "id": "23bf2a68",
   "metadata": {},
   "outputs": [
    {
     "data": {
      "text/plain": [
       "Client Code                                        int64\n",
       "Loan amount (issued in AZN)                        int64\n",
       "Monthly payment (AZN)                            float64\n",
       "Age                                                int64\n",
       "Salary (AZN)                                     float64\n",
       "Bank history (years)                               int64\n",
       "Monthly Amazon purchases from card (USD)           int64\n",
       "Monthly Google Play purchases from card (USD)      int64\n",
       "Grocery purchases from card (AZN)                  int64\n",
       "Maximum default days within a year (FACTUAL)       int64\n",
       "dtype: object"
      ]
     },
     "execution_count": 495,
     "metadata": {},
     "output_type": "execute_result"
    }
   ],
   "source": [
    "df.dtypes"
   ]
  },
  {
   "cell_type": "code",
   "execution_count": 496,
   "id": "0512d4de",
   "metadata": {},
   "outputs": [],
   "source": [
    "from sklearn.model_selection import train_test_split\n",
    "\n",
    "x_train, x_test, y_train, y_test = train_test_split(x,y,test_size=0.2,random_state=1)"
   ]
  },
  {
   "cell_type": "code",
   "execution_count": 497,
   "id": "367f7034",
   "metadata": {},
   "outputs": [
    {
     "data": {
      "text/plain": [
       "LinearRegression()"
      ]
     },
     "execution_count": 497,
     "metadata": {},
     "output_type": "execute_result"
    }
   ],
   "source": [
    "from sklearn.linear_model import LinearRegression\n",
    "\n",
    "lr_model = LinearRegression()\n",
    "lr_model"
   ]
  },
  {
   "cell_type": "code",
   "execution_count": 498,
   "id": "e1f071cd",
   "metadata": {},
   "outputs": [
    {
     "data": {
      "text/plain": [
       "LinearRegression()"
      ]
     },
     "execution_count": 498,
     "metadata": {},
     "output_type": "execute_result"
    }
   ],
   "source": [
    "lr_model.fit(x_train,y_train)"
   ]
  },
  {
   "cell_type": "code",
   "execution_count": 500,
   "id": "f264e583",
   "metadata": {},
   "outputs": [],
   "source": [
    "predicted_lr = lr_model.predict(x_test)"
   ]
  },
  {
   "cell_type": "code",
   "execution_count": 501,
   "id": "0409eca2",
   "metadata": {},
   "outputs": [
    {
     "data": {
      "text/plain": [
       "0.6657646699297062"
      ]
     },
     "execution_count": 501,
     "metadata": {},
     "output_type": "execute_result"
    }
   ],
   "source": [
    "lr_model.score(x_train,y_train)"
   ]
  },
  {
   "cell_type": "code",
   "execution_count": 502,
   "id": "f390b44f",
   "metadata": {},
   "outputs": [
    {
     "name": "stdout",
     "output_type": "stream",
     "text": [
      "Linear Regression \n",
      " MSE: 62.32738324786586 \n",
      " R2: -0.8745077668531085\n"
     ]
    }
   ],
   "source": [
    "from sklearn.metrics import mean_squared_error, r2_score\n",
    "mse_lr = mean_squared_error(y_test, predicted_lr)\n",
    "r2_lr = r2_score(y_test, predicted_lr)\n",
    "print(f\"Linear Regression \\n MSE: {mse_lr} \\n R2: {r2_lr}\")\n"
   ]
  },
  {
   "cell_type": "code",
   "execution_count": 489,
   "id": "df79db19",
   "metadata": {},
   "outputs": [],
   "source": [
    "from sklearn.preprocessing import PolynomialFeatures"
   ]
  },
  {
   "cell_type": "code",
   "execution_count": 490,
   "id": "e0b4c837",
   "metadata": {},
   "outputs": [],
   "source": [
    "poly = PolynomialFeatures(degree=2)  \n",
    "X_poly = poly.fit_transform(x_train)\n",
    "X_poly_test = poly.transform(x_test)"
   ]
  },
  {
   "cell_type": "code",
   "execution_count": 492,
   "id": "ec597476",
   "metadata": {},
   "outputs": [
    {
     "name": "stdout",
     "output_type": "stream",
     "text": [
      "Polynomial Regression \n",
      " MSE: 44.40701563127776 \n",
      " R2: -0.33554934229406785\n"
     ]
    }
   ],
   "source": [
    "lr_poly = LinearRegression()\n",
    "lr_poly.fit(X_poly, y_train)\n",
    "y_pred_poly = lr_poly.predict(X_poly_test)\n",
    "mse_poly = mean_squared_error(y_test, y_pred_poly)\n",
    "r2_poly = r2_score(y_test, y_pred_poly)\n",
    "\n",
    "print(f\"Polynomial Regression \\n MSE: {mse_poly} \\n R2: {r2_poly}\")"
   ]
  },
  {
   "cell_type": "code",
   "execution_count": null,
   "id": "fc31c8c7",
   "metadata": {},
   "outputs": [],
   "source": []
  }
 ],
 "metadata": {
  "kernelspec": {
   "display_name": "Python 3 (ipykernel)",
   "language": "python",
   "name": "python3"
  },
  "language_info": {
   "codemirror_mode": {
    "name": "ipython",
    "version": 3
   },
   "file_extension": ".py",
   "mimetype": "text/x-python",
   "name": "python",
   "nbconvert_exporter": "python",
   "pygments_lexer": "ipython3",
   "version": "3.9.7"
  }
 },
 "nbformat": 4,
 "nbformat_minor": 5
}
