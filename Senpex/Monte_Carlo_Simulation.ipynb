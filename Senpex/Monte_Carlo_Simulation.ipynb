{
 "cells": [
  {
   "cell_type": "markdown",
   "id": "3715f2f0",
   "metadata": {},
   "source": [
    "## Monte Carlo Simulation"
   ]
  },
  {
   "cell_type": "code",
   "execution_count": 28,
   "id": "62120ae9",
   "metadata": {},
   "outputs": [
    {
     "name": "stdout",
     "output_type": "stream",
     "text": [
      "Probability of winning the car without switching : 0.3272\n",
      "Probability of winning the car with switching : 0.6728\n"
     ]
    }
   ],
   "source": [
    "# Number of simulations\n",
    "simulation = 10000\n",
    "\n",
    "# Records of winning\n",
    "win_without_switch = 0\n",
    "win_switch = 0\n",
    "\n",
    "# Importing Numpy library\n",
    "import numpy as np\n",
    "\n",
    "for i in range(simulation):\n",
    "    \n",
    "    # List of possibilities behind doors\n",
    "    doors = ['car','goat','goat']\n",
    "    \n",
    "    # Randomly placing the car behind one of the three doors\n",
    "    np.random.shuffle(doors)\n",
    "    \n",
    "    # Contestant first choice of choosing the door\n",
    "    first_choice = np.random.randint(0,3)\n",
    "    \n",
    "    # Other remaining doors\n",
    "    remaining_doors = [i for i in range(3) if i != first_choice and doors[i] == 'goat']\n",
    "    \n",
    "    # Monty Hall opening the door with a goat\n",
    "    monty_choice = np.random.choice(remaining_doors)\n",
    "    \n",
    "    # Remaining door after Monty's choice\n",
    "    remaining_door = [i for i in range(3) if i != first_choice and i != monty_choice][0]\n",
    "    \n",
    "    # Checking the possibilities of switching and not switching\n",
    "    if doors[first_choice] == 'car':\n",
    "        win_without_switch +=1\n",
    "    else:\n",
    "        win_switch +=1\n",
    "\n",
    "# Probabilities\n",
    "Prob_of_win_without_switch = win_without_switch / simulation\n",
    "prob_of_win_with_switch = win_switch / simulation\n",
    "\n",
    "print(f'Probability of winning the car without switching : {Prob_of_win_without_switch}')\n",
    "print(f'Probability of winning the car with switching : {prob_of_win_with_switch}')"
   ]
  }
 ],
 "metadata": {
  "kernelspec": {
   "display_name": "Python 3 (ipykernel)",
   "language": "python",
   "name": "python3"
  },
  "language_info": {
   "codemirror_mode": {
    "name": "ipython",
    "version": 3
   },
   "file_extension": ".py",
   "mimetype": "text/x-python",
   "name": "python",
   "nbconvert_exporter": "python",
   "pygments_lexer": "ipython3",
   "version": "3.9.7"
  }
 },
 "nbformat": 4,
 "nbformat_minor": 5
}
