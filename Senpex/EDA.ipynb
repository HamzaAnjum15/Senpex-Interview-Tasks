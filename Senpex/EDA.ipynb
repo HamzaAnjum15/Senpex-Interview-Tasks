{
 "cells": [
  {
   "cell_type": "code",
   "execution_count": 2,
   "id": "f3d6e423",
   "metadata": {},
   "outputs": [],
   "source": [
    "import pandas as pd"
   ]
  },
  {
   "cell_type": "code",
   "execution_count": 7,
   "id": "b2cbe1a3",
   "metadata": {},
   "outputs": [
    {
     "data": {
      "text/html": [
       "<div>\n",
       "<style scoped>\n",
       "    .dataframe tbody tr th:only-of-type {\n",
       "        vertical-align: middle;\n",
       "    }\n",
       "\n",
       "    .dataframe tbody tr th {\n",
       "        vertical-align: top;\n",
       "    }\n",
       "\n",
       "    .dataframe thead th {\n",
       "        text-align: right;\n",
       "    }\n",
       "</style>\n",
       "<table border=\"1\" class=\"dataframe\">\n",
       "  <thead>\n",
       "    <tr style=\"text-align: right;\">\n",
       "      <th></th>\n",
       "      <th>Customer ID</th>\n",
       "      <th>Tenure</th>\n",
       "      <th>Geography ID</th>\n",
       "      <th>Completed tutorial</th>\n",
       "      <th>Subscription ID</th>\n",
       "      <th>Role</th>\n",
       "      <th>Company ID</th>\n",
       "      <th>Rating</th>\n",
       "      <th>Theme</th>\n",
       "      <th>Original Score</th>\n",
       "    </tr>\n",
       "  </thead>\n",
       "  <tbody>\n",
       "    <tr>\n",
       "      <th>0</th>\n",
       "      <td>10000000</td>\n",
       "      <td>7.0</td>\n",
       "      <td>2</td>\n",
       "      <td>yes</td>\n",
       "      <td>2</td>\n",
       "      <td>1</td>\n",
       "      <td>2</td>\n",
       "      <td>High</td>\n",
       "      <td>speed</td>\n",
       "      <td>9</td>\n",
       "    </tr>\n",
       "    <tr>\n",
       "      <th>1</th>\n",
       "      <td>10000001</td>\n",
       "      <td>9.0</td>\n",
       "      <td>1</td>\n",
       "      <td>yes</td>\n",
       "      <td>2</td>\n",
       "      <td>1</td>\n",
       "      <td>1</td>\n",
       "      <td>High</td>\n",
       "      <td>features</td>\n",
       "      <td>10</td>\n",
       "    </tr>\n",
       "    <tr>\n",
       "      <th>2</th>\n",
       "      <td>10000002</td>\n",
       "      <td>7.0</td>\n",
       "      <td>1</td>\n",
       "      <td>yes</td>\n",
       "      <td>1</td>\n",
       "      <td>1</td>\n",
       "      <td>2</td>\n",
       "      <td>High</td>\n",
       "      <td>design</td>\n",
       "      <td>9</td>\n",
       "    </tr>\n",
       "    <tr>\n",
       "      <th>3</th>\n",
       "      <td>10000003</td>\n",
       "      <td>24.0</td>\n",
       "      <td>4</td>\n",
       "      <td>yes</td>\n",
       "      <td>2</td>\n",
       "      <td>1</td>\n",
       "      <td>2</td>\n",
       "      <td>High</td>\n",
       "      <td>price</td>\n",
       "      <td>10</td>\n",
       "    </tr>\n",
       "    <tr>\n",
       "      <th>4</th>\n",
       "      <td>10000004</td>\n",
       "      <td>6.0</td>\n",
       "      <td>4</td>\n",
       "      <td>no</td>\n",
       "      <td>2</td>\n",
       "      <td>1</td>\n",
       "      <td>1</td>\n",
       "      <td>High</td>\n",
       "      <td>governance</td>\n",
       "      <td>9</td>\n",
       "    </tr>\n",
       "  </tbody>\n",
       "</table>\n",
       "</div>"
      ],
      "text/plain": [
       "   Customer ID  Tenure  Geography ID Completed tutorial  Subscription ID  \\\n",
       "0     10000000     7.0             2                yes                2   \n",
       "1     10000001     9.0             1                yes                2   \n",
       "2     10000002     7.0             1                yes                1   \n",
       "3     10000003    24.0             4                yes                2   \n",
       "4     10000004     6.0             4                 no                2   \n",
       "\n",
       "   Role  Company ID Rating       Theme  Original Score  \n",
       "0     1           2   High       speed               9  \n",
       "1     1           1   High    features              10  \n",
       "2     1           2   High      design               9  \n",
       "3     1           2   High       price              10  \n",
       "4     1           1   High  governance               9  "
      ]
     },
     "execution_count": 7,
     "metadata": {},
     "output_type": "execute_result"
    }
   ],
   "source": [
    "df = pd.read_excel('customerfeedback.xlsx')\n",
    "df.head()"
   ]
  },
  {
   "cell_type": "code",
   "execution_count": 7,
   "id": "90a1a4e9",
   "metadata": {},
   "outputs": [
    {
     "name": "stdout",
     "output_type": "stream",
     "text": [
      "<class 'pandas.core.frame.DataFrame'>\n",
      "RangeIndex: 45218 entries, 0 to 45217\n",
      "Data columns (total 10 columns):\n",
      " #   Column              Non-Null Count  Dtype  \n",
      "---  ------              --------------  -----  \n",
      " 0   Customer ID         45218 non-null  int64  \n",
      " 1   Tenure              44406 non-null  float64\n",
      " 2   Geography ID        45218 non-null  int64  \n",
      " 3   Completed tutorial  45218 non-null  object \n",
      " 4   Subscription ID     45218 non-null  int64  \n",
      " 5   Role                45218 non-null  int64  \n",
      " 6   Company ID          45218 non-null  int64  \n",
      " 7   Rating              45218 non-null  object \n",
      " 8   Theme               45218 non-null  object \n",
      " 9   Original Score      45218 non-null  int64  \n",
      "dtypes: float64(1), int64(6), object(3)\n",
      "memory usage: 3.4+ MB\n"
     ]
    },
    {
     "data": {
      "text/html": [
       "<div>\n",
       "<style scoped>\n",
       "    .dataframe tbody tr th:only-of-type {\n",
       "        vertical-align: middle;\n",
       "    }\n",
       "\n",
       "    .dataframe tbody tr th {\n",
       "        vertical-align: top;\n",
       "    }\n",
       "\n",
       "    .dataframe thead th {\n",
       "        text-align: right;\n",
       "    }\n",
       "</style>\n",
       "<table border=\"1\" class=\"dataframe\">\n",
       "  <thead>\n",
       "    <tr style=\"text-align: right;\">\n",
       "      <th></th>\n",
       "      <th>Customer ID</th>\n",
       "      <th>Tenure</th>\n",
       "      <th>Geography ID</th>\n",
       "      <th>Subscription ID</th>\n",
       "      <th>Role</th>\n",
       "      <th>Company ID</th>\n",
       "      <th>Original Score</th>\n",
       "    </tr>\n",
       "  </thead>\n",
       "  <tbody>\n",
       "    <tr>\n",
       "      <th>count</th>\n",
       "      <td>4.521800e+04</td>\n",
       "      <td>44406.000000</td>\n",
       "      <td>45218.00000</td>\n",
       "      <td>45218.000000</td>\n",
       "      <td>45218.000000</td>\n",
       "      <td>45218.000000</td>\n",
       "      <td>45218.000000</td>\n",
       "    </tr>\n",
       "    <tr>\n",
       "      <th>mean</th>\n",
       "      <td>1.002261e+07</td>\n",
       "      <td>16.710827</td>\n",
       "      <td>1.72051</td>\n",
       "      <td>1.839776</td>\n",
       "      <td>1.776328</td>\n",
       "      <td>1.832323</td>\n",
       "      <td>7.419457</td>\n",
       "    </tr>\n",
       "    <tr>\n",
       "      <th>std</th>\n",
       "      <td>1.305346e+04</td>\n",
       "      <td>11.702538</td>\n",
       "      <td>0.86660</td>\n",
       "      <td>0.366818</td>\n",
       "      <td>0.549711</td>\n",
       "      <td>0.608247</td>\n",
       "      <td>2.137732</td>\n",
       "    </tr>\n",
       "    <tr>\n",
       "      <th>min</th>\n",
       "      <td>1.000000e+07</td>\n",
       "      <td>0.000000</td>\n",
       "      <td>1.00000</td>\n",
       "      <td>1.000000</td>\n",
       "      <td>1.000000</td>\n",
       "      <td>1.000000</td>\n",
       "      <td>1.000000</td>\n",
       "    </tr>\n",
       "    <tr>\n",
       "      <th>25%</th>\n",
       "      <td>1.001130e+07</td>\n",
       "      <td>8.000000</td>\n",
       "      <td>1.00000</td>\n",
       "      <td>2.000000</td>\n",
       "      <td>1.000000</td>\n",
       "      <td>1.000000</td>\n",
       "      <td>6.000000</td>\n",
       "    </tr>\n",
       "    <tr>\n",
       "      <th>50%</th>\n",
       "      <td>1.002261e+07</td>\n",
       "      <td>16.000000</td>\n",
       "      <td>1.00000</td>\n",
       "      <td>2.000000</td>\n",
       "      <td>2.000000</td>\n",
       "      <td>2.000000</td>\n",
       "      <td>8.000000</td>\n",
       "    </tr>\n",
       "    <tr>\n",
       "      <th>75%</th>\n",
       "      <td>1.003391e+07</td>\n",
       "      <td>24.000000</td>\n",
       "      <td>2.00000</td>\n",
       "      <td>2.000000</td>\n",
       "      <td>2.000000</td>\n",
       "      <td>2.000000</td>\n",
       "      <td>9.000000</td>\n",
       "    </tr>\n",
       "    <tr>\n",
       "      <th>max</th>\n",
       "      <td>1.004522e+07</td>\n",
       "      <td>60.000000</td>\n",
       "      <td>4.00000</td>\n",
       "      <td>2.000000</td>\n",
       "      <td>3.000000</td>\n",
       "      <td>3.000000</td>\n",
       "      <td>10.000000</td>\n",
       "    </tr>\n",
       "  </tbody>\n",
       "</table>\n",
       "</div>"
      ],
      "text/plain": [
       "        Customer ID        Tenure  Geography ID  Subscription ID  \\\n",
       "count  4.521800e+04  44406.000000   45218.00000     45218.000000   \n",
       "mean   1.002261e+07     16.710827       1.72051         1.839776   \n",
       "std    1.305346e+04     11.702538       0.86660         0.366818   \n",
       "min    1.000000e+07      0.000000       1.00000         1.000000   \n",
       "25%    1.001130e+07      8.000000       1.00000         2.000000   \n",
       "50%    1.002261e+07     16.000000       1.00000         2.000000   \n",
       "75%    1.003391e+07     24.000000       2.00000         2.000000   \n",
       "max    1.004522e+07     60.000000       4.00000         2.000000   \n",
       "\n",
       "               Role    Company ID  Original Score  \n",
       "count  45218.000000  45218.000000    45218.000000  \n",
       "mean       1.776328      1.832323        7.419457  \n",
       "std        0.549711      0.608247        2.137732  \n",
       "min        1.000000      1.000000        1.000000  \n",
       "25%        1.000000      1.000000        6.000000  \n",
       "50%        2.000000      2.000000        8.000000  \n",
       "75%        2.000000      2.000000        9.000000  \n",
       "max        3.000000      3.000000       10.000000  "
      ]
     },
     "execution_count": 7,
     "metadata": {},
     "output_type": "execute_result"
    }
   ],
   "source": [
    "df.info()\n",
    "df.describe()"
   ]
  },
  {
   "cell_type": "code",
   "execution_count": 146,
   "id": "2a215383",
   "metadata": {},
   "outputs": [
    {
     "data": {
      "text/plain": [
       "Customer ID             0\n",
       "Tenure                812\n",
       "Geography ID            0\n",
       "Completed tutorial      0\n",
       "Subscription ID         0\n",
       "Role                    0\n",
       "Company ID              0\n",
       "Rating                  0\n",
       "Theme                   0\n",
       "Original Score          0\n",
       "dtype: int64"
      ]
     },
     "execution_count": 146,
     "metadata": {},
     "output_type": "execute_result"
    }
   ],
   "source": [
    "df.isnull().sum()"
   ]
  },
  {
   "cell_type": "markdown",
   "id": "2290711f",
   "metadata": {},
   "source": [
    "#### Checking if the null values of Tenure are impacting our dataset"
   ]
  },
  {
   "cell_type": "code",
   "execution_count": 4,
   "id": "4a546a01",
   "metadata": {},
   "outputs": [
    {
     "data": {
      "image/png": "[encoded data removed]",
      "text/plain": [
       "<Figure size 432x288 with 1 Axes>"
      ]
     },
     "metadata": {
      "needs_background": "light"
     },
     "output_type": "display_data"
    },
    {
     "data": {
      "image/png": "[encoded data removed]",
      "text/plain": [
       "<Figure size 432x288 with 1 Axes>"
      ]
     },
     "metadata": {
      "needs_background": "light"
     },
     "output_type": "display_data"
    }
   ],
   "source": [
    "import seaborn as sns\n",
    "import matplotlib.pyplot as plt\n",
    "\n",
    "# Plot the distribution of Tenure values, including zeros\n",
    "sns.histplot(df['Tenure'], kde=True)\n",
    "plt.show()\n",
    "\n",
    "# Separate plot for non-zero Tenure values\n",
    "sns.histplot(df[df['Tenure'] > 0]['Tenure'], kde=True)\n",
    "plt.show()"
   ]
  },
  {
   "cell_type": "markdown",
   "id": "0b263d79",
   "metadata": {},
   "source": [
    "#### Since we see no particular impact of null values on our dataset that's why we keep the null values"
   ]
  },
  {
   "cell_type": "markdown",
   "id": "8b1b2cf8",
   "metadata": {},
   "source": [
    "#### Droping duplicates if any"
   ]
  },
  {
   "cell_type": "code",
   "execution_count": 54,
   "id": "b948fb86",
   "metadata": {},
   "outputs": [],
   "source": [
    "df.drop_duplicates(inplace=True)"
   ]
  },
  {
   "cell_type": "markdown",
   "id": "fcc4f99b",
   "metadata": {},
   "source": [
    "#### Statistics for Numerical Columns"
   ]
  },
  {
   "cell_type": "code",
   "execution_count": 108,
   "id": "f5c7dcd5",
   "metadata": {},
   "outputs": [
    {
     "name": "stdout",
     "output_type": "stream",
     "text": [
      " Statistics of Original Score \n",
      " count    43877.000000\n",
      "mean         7.420259\n",
      "std          2.139863\n",
      "min          1.000000\n",
      "25%          6.000000\n",
      "50%          8.000000\n",
      "75%          9.000000\n",
      "max         16.710827\n",
      "Name: Original Score, dtype: float64 \n",
      "\n",
      " Statistics of Tenure \n",
      " count    43877.000000\n",
      "mean        17.221936\n",
      "std         11.392895\n",
      "min          1.000000\n",
      "25%          8.000000\n",
      "50%         16.000000\n",
      "75%         24.000000\n",
      "max         60.000000\n",
      "Name: Tenure, dtype: float64\n"
     ]
    }
   ],
   "source": [
    "print(' Statistics of Original Score \\n', df['Original Score'].describe(),'\\n')\n",
    "print(' Statistics of Tenure \\n', df['Tenure'].describe())"
   ]
  },
  {
   "cell_type": "markdown",
   "id": "2cda2695",
   "metadata": {},
   "source": [
    "#### Statistics for Categorical Columns"
   ]
  },
  {
   "cell_type": "code",
   "execution_count": 148,
   "id": "343cdef3",
   "metadata": {},
   "outputs": [
    {
     "name": "stdout",
     "output_type": "stream",
     "text": [
      " Statistics of Rating \n",
      " High    39925\n",
      "Low      5293\n",
      "Name: Rating, dtype: int64 \n",
      "\n",
      " Statistics of Completed Tutorial \n",
      " yes    25133\n",
      "no     20085\n",
      "Name: Completed tutorial, dtype: int64 \n",
      "\n",
      " Statistics of Geography ID \n",
      " 1    23206\n",
      "2    13302\n",
      "3     6852\n",
      "4     1858\n",
      "Name: Geography ID, dtype: int64 \n",
      "\n",
      " Statistics of Theme \n",
      " price          9734\n",
      "speed          9458\n",
      "features       7599\n",
      "reliability    5171\n",
      "services       4154\n",
      "security       2267\n",
      "support        1579\n",
      "design         1487\n",
      "navigation     1303\n",
      "other          1240\n",
      "usability       938\n",
      "governance      288\n",
      "Name: Theme, dtype: int64\n"
     ]
    }
   ],
   "source": [
    "print(' Statistics of Rating \\n', df['Rating'].value_counts(),'\\n')\n",
    "print(' Statistics of Completed Tutorial \\n', df['Completed tutorial'].value_counts(),'\\n')\n",
    "print(' Statistics of Geography ID \\n', df['Geography ID'].value_counts(),'\\n')\n",
    "print(' Statistics of Theme \\n', df['Theme'].value_counts())"
   ]
  },
  {
   "cell_type": "markdown",
   "id": "f162ec06",
   "metadata": {},
   "source": [
    "### Histograms for Numerical Data"
   ]
  },
  {
   "cell_type": "code",
   "execution_count": 110,
   "id": "044da771",
   "metadata": {},
   "outputs": [
    {
     "data": {
      "text/plain": [
       "Text(0, 0.5, 'Count')"
      ]
     },
     "execution_count": 110,
     "metadata": {},
     "output_type": "execute_result"
    },
    {
     "data": {
      "image/png": "[encoded data removed]",
      "text/plain": [
       "<Figure size 432x288 with 1 Axes>"
      ]
     },
     "metadata": {
      "needs_background": "light"
     },
     "output_type": "display_data"
    }
   ],
   "source": [
    "plt.hist(df['Original Score'])\n",
    "plt.xlabel('Original Score')\n",
    "plt.ylabel('Count')"
   ]
  },
  {
   "cell_type": "code",
   "execution_count": 96,
   "id": "5275dba5",
   "metadata": {},
   "outputs": [
    {
     "data": {
      "text/plain": [
       "Text(0, 0.5, 'Count')"
      ]
     },
     "execution_count": 96,
     "metadata": {},
     "output_type": "execute_result"
    },
    {
     "data": {
      "image/png": "[encoded data removed]",
      "text/plain": [
       "<Figure size 432x288 with 1 Axes>"
      ]
     },
     "metadata": {
      "needs_background": "light"
     },
     "output_type": "display_data"
    }
   ],
   "source": [
    "plt.hist(df['Tenure'])\n",
    "plt.xlabel('Tenure')\n",
    "plt.ylabel('Count')"
   ]
  },
  {
   "cell_type": "markdown",
   "id": "8ec9f92b",
   "metadata": {},
   "source": [
    "### Bar plots for Categorical Data"
   ]
  },
  {
   "cell_type": "code",
   "execution_count": 149,
   "id": "ef9cecdf",
   "metadata": {},
   "outputs": [
    {
     "data": {
      "text/plain": [
       "<AxesSubplot:xlabel='Geography ID', ylabel='count'>"
      ]
     },
     "execution_count": 149,
     "metadata": {},
     "output_type": "execute_result"
    },
    {
     "data": {
      "image/png": "[encoded data removed]",
      "text/plain": [
       "<Figure size 432x288 with 1 Axes>"
      ]
     },
     "metadata": {
      "needs_background": "light"
     },
     "output_type": "display_data"
    }
   ],
   "source": [
    "import seaborn as sns\n",
    "sns.countplot(x='Geography ID',data=df)"
   ]
  },
  {
   "cell_type": "code",
   "execution_count": 150,
   "id": "26432e74",
   "metadata": {},
   "outputs": [
    {
     "data": {
      "image/png": "[encoded data removed]",
      "text/plain": [
       "<Figure size 432x288 with 1 Axes>"
      ]
     },
     "metadata": {
      "needs_background": "light"
     },
     "output_type": "display_data"
    }
   ],
   "source": [
    "sns.countplot(x='Theme',data=df)\n",
    "plt.xticks(rotation = 90)\n",
    "plt.show()"
   ]
  },
  {
   "cell_type": "code",
   "execution_count": 151,
   "id": "ad827292",
   "metadata": {},
   "outputs": [
    {
     "data": {
      "text/plain": [
       "<AxesSubplot:xlabel='Rating', ylabel='count'>"
      ]
     },
     "execution_count": 151,
     "metadata": {},
     "output_type": "execute_result"
    },
    {
     "data": {
      "image/png": "[encoded data removed]",
      "text/plain": [
       "<Figure size 432x288 with 1 Axes>"
      ]
     },
     "metadata": {
      "needs_background": "light"
     },
     "output_type": "display_data"
    }
   ],
   "source": [
    "sns.countplot(x='Rating',data=df)"
   ]
  },
  {
   "cell_type": "code",
   "execution_count": 152,
   "id": "94276bfd",
   "metadata": {},
   "outputs": [
    {
     "data": {
      "text/plain": [
       "<AxesSubplot:xlabel='Completed tutorial', ylabel='count'>"
      ]
     },
     "execution_count": 152,
     "metadata": {},
     "output_type": "execute_result"
    },
    {
     "data": {
      "image/png": "[encoded data removed]",
      "text/plain": [
       "<Figure size 432x288 with 1 Axes>"
      ]
     },
     "metadata": {
      "needs_background": "light"
     },
     "output_type": "display_data"
    }
   ],
   "source": [
    "sns.countplot(x='Completed tutorial',data=df)"
   ]
  },
  {
   "cell_type": "markdown",
   "id": "fc4adc44",
   "metadata": {},
   "source": [
    "### Comparing Numerical and Categorical columns"
   ]
  },
  {
   "cell_type": "code",
   "execution_count": 153,
   "id": "70101c89",
   "metadata": {},
   "outputs": [
    {
     "data": {
      "image/png": "[encoded data removed]",
      "text/plain": [
       "<Figure size 432x288 with 1 Axes>"
      ]
     },
     "metadata": {
      "needs_background": "light"
     },
     "output_type": "display_data"
    }
   ],
   "source": [
    "sns.boxplot(x='Completed tutorial', y='Tenure', data=df)\n",
    "plt.show()"
   ]
  },
  {
   "cell_type": "code",
   "execution_count": 156,
   "id": "30ab6820",
   "metadata": {},
   "outputs": [
    {
     "data": {
      "image/png": "[encoded data removed]",
      "text/plain": [
       "<Figure size 432x288 with 1 Axes>"
      ]
     },
     "metadata": {
      "needs_background": "light"
     },
     "output_type": "display_data"
    }
   ],
   "source": [
    "sns.boxplot(x='Completed tutorial', y='Original Score', data=df)\n",
    "plt.show()"
   ]
  },
  {
   "cell_type": "code",
   "execution_count": 5,
   "id": "59a82b03",
   "metadata": {},
   "outputs": [
    {
     "data": {
      "image/png": "[encoded data removed]",
      "text/plain": [
       "<Figure size 432x288 with 1 Axes>"
      ]
     },
     "metadata": {
      "needs_background": "light"
     },
     "output_type": "display_data"
    }
   ],
   "source": [
    "sns.boxplot(x='Rating', y='Tenure', data=df)\n",
    "plt.show()"
   ]
  },
  {
   "cell_type": "markdown",
   "id": "0c0bf265",
   "metadata": {},
   "source": [
    "### Understanding how different columns interect with each other"
   ]
  },
  {
   "cell_type": "markdown",
   "id": "1b0660fc",
   "metadata": {},
   "source": [
    "#### Plotting bar plot to check if completing tutorial has any impact on rating and original score"
   ]
  },
  {
   "cell_type": "code",
   "execution_count": 10,
   "id": "62c21dbb",
   "metadata": {
    "scrolled": true
   },
   "outputs": [
    {
     "data": {
      "image/png": "[encoded data removed]",
      "text/plain": [
       "<Figure size 461.375x360 with 1 Axes>"
      ]
     },
     "metadata": {
      "needs_background": "light"
     },
     "output_type": "display_data"
    }
   ],
   "source": [
    "sns.catplot(x='Original Score', y='Rating', hue='Completed tutorial', data=df, kind='bar')\n",
    "plt.show()\n"
   ]
  },
  {
   "cell_type": "markdown",
   "id": "90acf1c5",
   "metadata": {},
   "source": [
    "#### Plotting bar plot to check if completing tutorial has any impact on rating and tenure"
   ]
  },
  {
   "cell_type": "code",
   "execution_count": 8,
   "id": "4a1b0899",
   "metadata": {},
   "outputs": [
    {
     "data": {
      "image/png": "[encoded data removed]",
      "text/plain": [
       "<Figure size 461.375x360 with 1 Axes>"
      ]
     },
     "metadata": {
      "needs_background": "light"
     },
     "output_type": "display_data"
    }
   ],
   "source": [
    "sns.catplot(x='Tenure', y='Rating', hue='Completed tutorial', data=df, kind='bar')\n",
    "plt.show()\n"
   ]
  },
  {
   "cell_type": "markdown",
   "id": "84b9db9f",
   "metadata": {},
   "source": [
    "## Summary of the Dataset"
   ]
  },
  {
   "cell_type": "markdown",
   "id": "e77f7e7d",
   "metadata": {},
   "source": [
    "* Most customers have a tenure of less than 30 months.\n",
    "* There is a noticeable drop-off in the number of customers as tenure increases beyond 30 months.\n",
    "* Average Tenure is 17\n",
    "* Analyzing the data reveals that tenure does not have a significant impact on the ratings.\n",
    "* Customers who have completed tutorials tend to give higher ratings, suggesting the tutorials are beneficial.\n",
    "* Identifying themes helps in understanding key areas of concern or satisfaction for customers.\n",
    "* Most customers use the service because of its Price, Speed and Features\n",
    "* Average Original Score is 7.420259\n",
    "* Mostly users are from Geography ID 1\n",
    "* Higher Original Scores are associated with higher Ratings.\n",
    "* Customers who completed the tutorial tend to have higher ratings across all Original Score categories"
   ]
  }
 ],
 "metadata": {
  "kernelspec": {
   "display_name": "Python 3 (ipykernel)",
   "language": "python",
   "name": "python3"
  },
  "language_info": {
   "codemirror_mode": {
    "name": "ipython",
    "version": 3
   },
   "file_extension": ".py",
   "mimetype": "text/x-python",
   "name": "python",
   "nbconvert_exporter": "python",
   "pygments_lexer": "ipython3",
   "version": "3.9.7"
  }
 },
 "nbformat": 4,
 "nbformat_minor": 5
}
